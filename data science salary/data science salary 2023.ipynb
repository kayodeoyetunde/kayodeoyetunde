{
 "cells": [
  {
   "cell_type": "markdown",
   "id": "7a58c270",
   "metadata": {},
   "source": [
    "# Project data science salary "
   ]
  },
  {
   "cell_type": "code",
   "execution_count": null,
   "id": "966ae36b",
   "metadata": {},
   "outputs": [],
   "source": []
  },
  {
   "cell_type": "code",
   "execution_count": null,
   "id": "71067344",
   "metadata": {},
   "outputs": [],
   "source": [
    "import pandas as pd\n",
    "import matplotlib.pyplot as plt\n",
    "import seaborn as sns\n",
    "\n",
    "%matplotlib inline\n",
    "sns.set()"
   ]
  },
  {
   "cell_type": "code",
   "execution_count": 58,
   "id": "7ac30e95",
   "metadata": {},
   "outputs": [
    {
     "data": {
      "text/html": [
       "<div>\n",
       "<style scoped>\n",
       "    .dataframe tbody tr th:only-of-type {\n",
       "        vertical-align: middle;\n",
       "    }\n",
       "\n",
       "    .dataframe tbody tr th {\n",
       "        vertical-align: top;\n",
       "    }\n",
       "\n",
       "    .dataframe thead th {\n",
       "        text-align: right;\n",
       "    }\n",
       "</style>\n",
       "<table border=\"1\" class=\"dataframe\">\n",
       "  <thead>\n",
       "    <tr style=\"text-align: right;\">\n",
       "      <th></th>\n",
       "      <th>work_year</th>\n",
       "      <th>experience_level</th>\n",
       "      <th>employment_type</th>\n",
       "      <th>job_title</th>\n",
       "      <th>salary</th>\n",
       "      <th>salary_currency</th>\n",
       "      <th>salary_in_usd</th>\n",
       "      <th>employee_residence</th>\n",
       "      <th>remote_ratio</th>\n",
       "      <th>company_location</th>\n",
       "      <th>company_size</th>\n",
       "    </tr>\n",
       "  </thead>\n",
       "  <tbody>\n",
       "    <tr>\n",
       "      <th>0</th>\n",
       "      <td>2023</td>\n",
       "      <td>SE</td>\n",
       "      <td>FT</td>\n",
       "      <td>Principal Data Scientist</td>\n",
       "      <td>80000</td>\n",
       "      <td>EUR</td>\n",
       "      <td>85847</td>\n",
       "      <td>ES</td>\n",
       "      <td>100</td>\n",
       "      <td>ES</td>\n",
       "      <td>L</td>\n",
       "    </tr>\n",
       "    <tr>\n",
       "      <th>1</th>\n",
       "      <td>2023</td>\n",
       "      <td>MI</td>\n",
       "      <td>CT</td>\n",
       "      <td>ML Engineer</td>\n",
       "      <td>30000</td>\n",
       "      <td>USD</td>\n",
       "      <td>30000</td>\n",
       "      <td>US</td>\n",
       "      <td>100</td>\n",
       "      <td>US</td>\n",
       "      <td>S</td>\n",
       "    </tr>\n",
       "    <tr>\n",
       "      <th>2</th>\n",
       "      <td>2023</td>\n",
       "      <td>MI</td>\n",
       "      <td>CT</td>\n",
       "      <td>ML Engineer</td>\n",
       "      <td>25500</td>\n",
       "      <td>USD</td>\n",
       "      <td>25500</td>\n",
       "      <td>US</td>\n",
       "      <td>100</td>\n",
       "      <td>US</td>\n",
       "      <td>S</td>\n",
       "    </tr>\n",
       "    <tr>\n",
       "      <th>3</th>\n",
       "      <td>2023</td>\n",
       "      <td>SE</td>\n",
       "      <td>FT</td>\n",
       "      <td>Data Scientist</td>\n",
       "      <td>175000</td>\n",
       "      <td>USD</td>\n",
       "      <td>175000</td>\n",
       "      <td>CA</td>\n",
       "      <td>100</td>\n",
       "      <td>CA</td>\n",
       "      <td>M</td>\n",
       "    </tr>\n",
       "    <tr>\n",
       "      <th>4</th>\n",
       "      <td>2023</td>\n",
       "      <td>SE</td>\n",
       "      <td>FT</td>\n",
       "      <td>Data Scientist</td>\n",
       "      <td>120000</td>\n",
       "      <td>USD</td>\n",
       "      <td>120000</td>\n",
       "      <td>CA</td>\n",
       "      <td>100</td>\n",
       "      <td>CA</td>\n",
       "      <td>M</td>\n",
       "    </tr>\n",
       "  </tbody>\n",
       "</table>\n",
       "</div>"
      ],
      "text/plain": [
       "   work_year experience_level employment_type                 job_title  \\\n",
       "0       2023               SE              FT  Principal Data Scientist   \n",
       "1       2023               MI              CT               ML Engineer   \n",
       "2       2023               MI              CT               ML Engineer   \n",
       "3       2023               SE              FT            Data Scientist   \n",
       "4       2023               SE              FT            Data Scientist   \n",
       "\n",
       "   salary salary_currency  salary_in_usd employee_residence  remote_ratio  \\\n",
       "0   80000             EUR          85847                 ES           100   \n",
       "1   30000             USD          30000                 US           100   \n",
       "2   25500             USD          25500                 US           100   \n",
       "3  175000             USD         175000                 CA           100   \n",
       "4  120000             USD         120000                 CA           100   \n",
       "\n",
       "  company_location company_size  \n",
       "0               ES            L  \n",
       "1               US            S  \n",
       "2               US            S  \n",
       "3               CA            M  \n",
       "4               CA            M  "
      ]
     },
     "execution_count": 58,
     "metadata": {},
     "output_type": "execute_result"
    }
   ],
   "source": [
    "data = pd.read_csv('ds_salaries.csv')\n",
    "data.head()"
   ]
  },
  {
   "cell_type": "code",
   "execution_count": 59,
   "id": "a4475b36",
   "metadata": {},
   "outputs": [
    {
     "data": {
      "text/plain": [
       "(3755, 11)"
      ]
     },
     "execution_count": 59,
     "metadata": {},
     "output_type": "execute_result"
    }
   ],
   "source": [
    "data.shape"
   ]
  },
  {
   "cell_type": "markdown",
   "id": "da8abbd7",
   "metadata": {},
   "source": [
    "# prepare "
   ]
  },
  {
   "cell_type": "code",
   "execution_count": 61,
   "id": "88807ab4",
   "metadata": {},
   "outputs": [
    {
     "data": {
      "text/plain": [
       "work_year              int64\n",
       "experience_level      object\n",
       "employment_type       object\n",
       "job_title             object\n",
       "salary                 int64\n",
       "salary_currency       object\n",
       "salary_in_usd          int64\n",
       "employee_residence    object\n",
       "remote_ratio           int64\n",
       "company_location      object\n",
       "company_size          object\n",
       "dtype: object"
      ]
     },
     "execution_count": 61,
     "metadata": {},
     "output_type": "execute_result"
    }
   ],
   "source": [
    "data.dtypes"
   ]
  },
  {
   "cell_type": "code",
   "execution_count": 60,
   "id": "e9369740",
   "metadata": {},
   "outputs": [
    {
     "data": {
      "text/plain": [
       "work_year             False\n",
       "experience_level      False\n",
       "employment_type       False\n",
       "job_title             False\n",
       "salary                False\n",
       "salary_currency       False\n",
       "salary_in_usd         False\n",
       "employee_residence    False\n",
       "remote_ratio          False\n",
       "company_location      False\n",
       "company_size          False\n",
       "dtype: bool"
      ]
     },
     "execution_count": 60,
     "metadata": {},
     "output_type": "execute_result"
    }
   ],
   "source": [
    "data.isna().any()"
   ]
  },
  {
   "cell_type": "code",
   "execution_count": 62,
   "id": "52c1ec7c",
   "metadata": {},
   "outputs": [
    {
     "data": {
      "text/plain": [
       "array(['SE', 'MI', 'EN', 'EX'], dtype=object)"
      ]
     },
     "execution_count": 62,
     "metadata": {},
     "output_type": "execute_result"
    }
   ],
   "source": [
    "data['experience_level'].unique()"
   ]
  },
  {
   "cell_type": "code",
   "execution_count": 63,
   "id": "5c07fe83",
   "metadata": {},
   "outputs": [
    {
     "data": {
      "text/plain": [
       "array(['L', 'S', 'M'], dtype=object)"
      ]
     },
     "execution_count": 63,
     "metadata": {},
     "output_type": "execute_result"
    }
   ],
   "source": [
    "data['company_size'].unique()"
   ]
  },
  {
   "cell_type": "code",
   "execution_count": 64,
   "id": "e0461d3b",
   "metadata": {},
   "outputs": [
    {
     "data": {
      "text/plain": [
       "array([2023, 2022, 2020, 2021], dtype=int64)"
      ]
     },
     "execution_count": 64,
     "metadata": {},
     "output_type": "execute_result"
    }
   ],
   "source": [
    "data['work_year'].unique()"
   ]
  },
  {
   "cell_type": "markdown",
   "id": "e1f6b894",
   "metadata": {},
   "source": [
    "# Analyze"
   ]
  },
  {
   "cell_type": "code",
   "execution_count": 65,
   "id": "0a780bcd",
   "metadata": {},
   "outputs": [
    {
     "data": {
      "text/html": [
       "<div>\n",
       "<style scoped>\n",
       "    .dataframe tbody tr th:only-of-type {\n",
       "        vertical-align: middle;\n",
       "    }\n",
       "\n",
       "    .dataframe tbody tr th {\n",
       "        vertical-align: top;\n",
       "    }\n",
       "\n",
       "    .dataframe thead th {\n",
       "        text-align: right;\n",
       "    }\n",
       "</style>\n",
       "<table border=\"1\" class=\"dataframe\">\n",
       "  <thead>\n",
       "    <tr style=\"text-align: right;\">\n",
       "      <th></th>\n",
       "      <th>count</th>\n",
       "      <th>mean</th>\n",
       "      <th>std</th>\n",
       "      <th>min</th>\n",
       "      <th>25%</th>\n",
       "      <th>50%</th>\n",
       "      <th>75%</th>\n",
       "      <th>max</th>\n",
       "    </tr>\n",
       "    <tr>\n",
       "      <th>experience_level</th>\n",
       "      <th></th>\n",
       "      <th></th>\n",
       "      <th></th>\n",
       "      <th></th>\n",
       "      <th></th>\n",
       "      <th></th>\n",
       "      <th></th>\n",
       "      <th></th>\n",
       "    </tr>\n",
       "  </thead>\n",
       "  <tbody>\n",
       "    <tr>\n",
       "      <th>EN</th>\n",
       "      <td>320.0</td>\n",
       "      <td>78546.284375</td>\n",
       "      <td>52225.424309</td>\n",
       "      <td>5409.0</td>\n",
       "      <td>40000.0</td>\n",
       "      <td>70000.0</td>\n",
       "      <td>110009.25</td>\n",
       "      <td>300000.0</td>\n",
       "    </tr>\n",
       "    <tr>\n",
       "      <th>EX</th>\n",
       "      <td>114.0</td>\n",
       "      <td>194930.929825</td>\n",
       "      <td>70661.929661</td>\n",
       "      <td>15000.0</td>\n",
       "      <td>145000.0</td>\n",
       "      <td>196000.0</td>\n",
       "      <td>239000.00</td>\n",
       "      <td>416000.0</td>\n",
       "    </tr>\n",
       "    <tr>\n",
       "      <th>MI</th>\n",
       "      <td>805.0</td>\n",
       "      <td>104525.939130</td>\n",
       "      <td>54387.685128</td>\n",
       "      <td>5132.0</td>\n",
       "      <td>66837.0</td>\n",
       "      <td>100000.0</td>\n",
       "      <td>135000.00</td>\n",
       "      <td>450000.0</td>\n",
       "    </tr>\n",
       "    <tr>\n",
       "      <th>SE</th>\n",
       "      <td>2516.0</td>\n",
       "      <td>153051.071542</td>\n",
       "      <td>56896.263954</td>\n",
       "      <td>8000.0</td>\n",
       "      <td>115000.0</td>\n",
       "      <td>146000.0</td>\n",
       "      <td>185900.00</td>\n",
       "      <td>423834.0</td>\n",
       "    </tr>\n",
       "  </tbody>\n",
       "</table>\n",
       "</div>"
      ],
      "text/plain": [
       "                   count           mean           std      min       25%  \\\n",
       "experience_level                                                           \n",
       "EN                 320.0   78546.284375  52225.424309   5409.0   40000.0   \n",
       "EX                 114.0  194930.929825  70661.929661  15000.0  145000.0   \n",
       "MI                 805.0  104525.939130  54387.685128   5132.0   66837.0   \n",
       "SE                2516.0  153051.071542  56896.263954   8000.0  115000.0   \n",
       "\n",
       "                       50%        75%       max  \n",
       "experience_level                                 \n",
       "EN                 70000.0  110009.25  300000.0  \n",
       "EX                196000.0  239000.00  416000.0  \n",
       "MI                100000.0  135000.00  450000.0  \n",
       "SE                146000.0  185900.00  423834.0  "
      ]
     },
     "execution_count": 65,
     "metadata": {},
     "output_type": "execute_result"
    }
   ],
   "source": [
    "data.groupby('experience_level')['salary_in_usd'].describe()"
   ]
  },
  {
   "cell_type": "code",
   "execution_count": 66,
   "id": "4927097f",
   "metadata": {},
   "outputs": [
    {
     "data": {
      "text/html": [
       "<div>\n",
       "<style scoped>\n",
       "    .dataframe tbody tr th:only-of-type {\n",
       "        vertical-align: middle;\n",
       "    }\n",
       "\n",
       "    .dataframe tbody tr th {\n",
       "        vertical-align: top;\n",
       "    }\n",
       "\n",
       "    .dataframe thead th {\n",
       "        text-align: right;\n",
       "    }\n",
       "</style>\n",
       "<table border=\"1\" class=\"dataframe\">\n",
       "  <thead>\n",
       "    <tr style=\"text-align: right;\">\n",
       "      <th></th>\n",
       "      <th>count</th>\n",
       "      <th>mean</th>\n",
       "      <th>std</th>\n",
       "      <th>min</th>\n",
       "      <th>25%</th>\n",
       "      <th>50%</th>\n",
       "      <th>75%</th>\n",
       "      <th>max</th>\n",
       "    </tr>\n",
       "    <tr>\n",
       "      <th>company_size</th>\n",
       "      <th></th>\n",
       "      <th></th>\n",
       "      <th></th>\n",
       "      <th></th>\n",
       "      <th></th>\n",
       "      <th></th>\n",
       "      <th></th>\n",
       "      <th></th>\n",
       "    </tr>\n",
       "  </thead>\n",
       "  <tbody>\n",
       "    <tr>\n",
       "      <th>L</th>\n",
       "      <td>454.0</td>\n",
       "      <td>118300.982379</td>\n",
       "      <td>75832.391505</td>\n",
       "      <td>5409.0</td>\n",
       "      <td>60830.75</td>\n",
       "      <td>108500.0</td>\n",
       "      <td>159175.00</td>\n",
       "      <td>423834.0</td>\n",
       "    </tr>\n",
       "    <tr>\n",
       "      <th>M</th>\n",
       "      <td>3153.0</td>\n",
       "      <td>143130.548367</td>\n",
       "      <td>58992.813382</td>\n",
       "      <td>5132.0</td>\n",
       "      <td>102100.00</td>\n",
       "      <td>140000.0</td>\n",
       "      <td>180000.00</td>\n",
       "      <td>450000.0</td>\n",
       "    </tr>\n",
       "    <tr>\n",
       "      <th>S</th>\n",
       "      <td>148.0</td>\n",
       "      <td>78226.682432</td>\n",
       "      <td>61955.141792</td>\n",
       "      <td>5679.0</td>\n",
       "      <td>35668.00</td>\n",
       "      <td>62146.0</td>\n",
       "      <td>107481.75</td>\n",
       "      <td>416000.0</td>\n",
       "    </tr>\n",
       "  </tbody>\n",
       "</table>\n",
       "</div>"
      ],
      "text/plain": [
       "               count           mean           std     min        25%  \\\n",
       "company_size                                                           \n",
       "L              454.0  118300.982379  75832.391505  5409.0   60830.75   \n",
       "M             3153.0  143130.548367  58992.813382  5132.0  102100.00   \n",
       "S              148.0   78226.682432  61955.141792  5679.0   35668.00   \n",
       "\n",
       "                   50%        75%       max  \n",
       "company_size                                 \n",
       "L             108500.0  159175.00  423834.0  \n",
       "M             140000.0  180000.00  450000.0  \n",
       "S              62146.0  107481.75  416000.0  "
      ]
     },
     "execution_count": 66,
     "metadata": {},
     "output_type": "execute_result"
    }
   ],
   "source": [
    "data.groupby('company_size')['salary_in_usd'].describe()"
   ]
  },
  {
   "cell_type": "code",
   "execution_count": 67,
   "id": "5e03393d",
   "metadata": {},
   "outputs": [
    {
     "data": {
      "text/plain": [
       "experience_level  company_size\n",
       "EN                L                72896.810000\n",
       "                  M                87416.456140\n",
       "                  S                59120.734694\n",
       "EX                L               165363.153846\n",
       "                  M               198857.284211\n",
       "                  S               196827.166667\n",
       "MI                L                89135.731343\n",
       "                  M               111586.421900\n",
       "                  S                58080.500000\n",
       "SE                L               156159.690821\n",
       "                  M               153643.334069\n",
       "                  S               106875.465116\n",
       "Name: salary_in_usd, dtype: float64"
      ]
     },
     "execution_count": 67,
     "metadata": {},
     "output_type": "execute_result"
    }
   ],
   "source": [
    "data.groupby(['experience_level', 'company_size'])['salary_in_usd'].mean()"
   ]
  },
  {
   "cell_type": "code",
   "execution_count": 68,
   "id": "58ef9a74",
   "metadata": {},
   "outputs": [
    {
     "data": {
      "text/html": [
       "<div>\n",
       "<style scoped>\n",
       "    .dataframe tbody tr th:only-of-type {\n",
       "        vertical-align: middle;\n",
       "    }\n",
       "\n",
       "    .dataframe tbody tr th {\n",
       "        vertical-align: top;\n",
       "    }\n",
       "\n",
       "    .dataframe thead th {\n",
       "        text-align: right;\n",
       "    }\n",
       "</style>\n",
       "<table border=\"1\" class=\"dataframe\">\n",
       "  <thead>\n",
       "    <tr style=\"text-align: right;\">\n",
       "      <th></th>\n",
       "      <th></th>\n",
       "      <th>count</th>\n",
       "      <th>mean</th>\n",
       "      <th>std</th>\n",
       "      <th>min</th>\n",
       "      <th>25%</th>\n",
       "      <th>50%</th>\n",
       "      <th>75%</th>\n",
       "      <th>max</th>\n",
       "    </tr>\n",
       "    <tr>\n",
       "      <th>experience_level</th>\n",
       "      <th>company_size</th>\n",
       "      <th></th>\n",
       "      <th></th>\n",
       "      <th></th>\n",
       "      <th></th>\n",
       "      <th></th>\n",
       "      <th></th>\n",
       "      <th></th>\n",
       "      <th></th>\n",
       "    </tr>\n",
       "  </thead>\n",
       "  <tbody>\n",
       "    <tr>\n",
       "      <th rowspan=\"3\" valign=\"top\">EN</th>\n",
       "      <th>L</th>\n",
       "      <td>100.0</td>\n",
       "      <td>72896.810000</td>\n",
       "      <td>61675.338071</td>\n",
       "      <td>5409.0</td>\n",
       "      <td>29142.50</td>\n",
       "      <td>58551.0</td>\n",
       "      <td>100000.0</td>\n",
       "      <td>300000.0</td>\n",
       "    </tr>\n",
       "    <tr>\n",
       "      <th>M</th>\n",
       "      <td>171.0</td>\n",
       "      <td>87416.456140</td>\n",
       "      <td>47181.318309</td>\n",
       "      <td>5707.0</td>\n",
       "      <td>51000.00</td>\n",
       "      <td>80000.0</td>\n",
       "      <td>125000.0</td>\n",
       "      <td>220000.0</td>\n",
       "    </tr>\n",
       "    <tr>\n",
       "      <th>S</th>\n",
       "      <td>49.0</td>\n",
       "      <td>59120.734694</td>\n",
       "      <td>40804.608680</td>\n",
       "      <td>6072.0</td>\n",
       "      <td>21669.00</td>\n",
       "      <td>52008.0</td>\n",
       "      <td>90000.0</td>\n",
       "      <td>150000.0</td>\n",
       "    </tr>\n",
       "    <tr>\n",
       "      <th rowspan=\"3\" valign=\"top\">EX</th>\n",
       "      <th>L</th>\n",
       "      <td>13.0</td>\n",
       "      <td>165363.153846</td>\n",
       "      <td>76509.601946</td>\n",
       "      <td>76309.0</td>\n",
       "      <td>106000.00</td>\n",
       "      <td>150000.0</td>\n",
       "      <td>230000.0</td>\n",
       "      <td>325000.0</td>\n",
       "    </tr>\n",
       "    <tr>\n",
       "      <th>M</th>\n",
       "      <td>95.0</td>\n",
       "      <td>198857.284211</td>\n",
       "      <td>66041.160611</td>\n",
       "      <td>15000.0</td>\n",
       "      <td>147500.00</td>\n",
       "      <td>200000.0</td>\n",
       "      <td>239000.0</td>\n",
       "      <td>353200.0</td>\n",
       "    </tr>\n",
       "    <tr>\n",
       "      <th>S</th>\n",
       "      <td>6.0</td>\n",
       "      <td>196827.166667</td>\n",
       "      <td>119289.827845</td>\n",
       "      <td>69741.0</td>\n",
       "      <td>131416.50</td>\n",
       "      <td>190000.0</td>\n",
       "      <td>200000.0</td>\n",
       "      <td>416000.0</td>\n",
       "    </tr>\n",
       "    <tr>\n",
       "      <th rowspan=\"3\" valign=\"top\">MI</th>\n",
       "      <th>L</th>\n",
       "      <td>134.0</td>\n",
       "      <td>89135.731343</td>\n",
       "      <td>58250.540795</td>\n",
       "      <td>6072.0</td>\n",
       "      <td>46637.50</td>\n",
       "      <td>82849.5</td>\n",
       "      <td>114500.0</td>\n",
       "      <td>423000.0</td>\n",
       "    </tr>\n",
       "    <tr>\n",
       "      <th>M</th>\n",
       "      <td>621.0</td>\n",
       "      <td>111586.421900</td>\n",
       "      <td>52253.408927</td>\n",
       "      <td>5132.0</td>\n",
       "      <td>75000.00</td>\n",
       "      <td>102200.0</td>\n",
       "      <td>145000.0</td>\n",
       "      <td>450000.0</td>\n",
       "    </tr>\n",
       "    <tr>\n",
       "      <th>S</th>\n",
       "      <td>50.0</td>\n",
       "      <td>58080.500000</td>\n",
       "      <td>36012.445233</td>\n",
       "      <td>5679.0</td>\n",
       "      <td>30772.25</td>\n",
       "      <td>58000.0</td>\n",
       "      <td>74750.0</td>\n",
       "      <td>200000.0</td>\n",
       "    </tr>\n",
       "    <tr>\n",
       "      <th rowspan=\"3\" valign=\"top\">SE</th>\n",
       "      <th>L</th>\n",
       "      <td>207.0</td>\n",
       "      <td>156159.690821</td>\n",
       "      <td>71776.028169</td>\n",
       "      <td>8000.0</td>\n",
       "      <td>105700.00</td>\n",
       "      <td>150000.0</td>\n",
       "      <td>196920.0</td>\n",
       "      <td>423834.0</td>\n",
       "    </tr>\n",
       "    <tr>\n",
       "      <th>M</th>\n",
       "      <td>2266.0</td>\n",
       "      <td>153643.334069</td>\n",
       "      <td>54768.256294</td>\n",
       "      <td>18907.0</td>\n",
       "      <td>116250.00</td>\n",
       "      <td>147100.0</td>\n",
       "      <td>185900.0</td>\n",
       "      <td>385000.0</td>\n",
       "    </tr>\n",
       "    <tr>\n",
       "      <th>S</th>\n",
       "      <td>43.0</td>\n",
       "      <td>106875.465116</td>\n",
       "      <td>67570.517515</td>\n",
       "      <td>10000.0</td>\n",
       "      <td>54327.00</td>\n",
       "      <td>91237.0</td>\n",
       "      <td>142500.0</td>\n",
       "      <td>275000.0</td>\n",
       "    </tr>\n",
       "  </tbody>\n",
       "</table>\n",
       "</div>"
      ],
      "text/plain": [
       "                                count           mean            std      min  \\\n",
       "experience_level company_size                                                  \n",
       "EN               L              100.0   72896.810000   61675.338071   5409.0   \n",
       "                 M              171.0   87416.456140   47181.318309   5707.0   \n",
       "                 S               49.0   59120.734694   40804.608680   6072.0   \n",
       "EX               L               13.0  165363.153846   76509.601946  76309.0   \n",
       "                 M               95.0  198857.284211   66041.160611  15000.0   \n",
       "                 S                6.0  196827.166667  119289.827845  69741.0   \n",
       "MI               L              134.0   89135.731343   58250.540795   6072.0   \n",
       "                 M              621.0  111586.421900   52253.408927   5132.0   \n",
       "                 S               50.0   58080.500000   36012.445233   5679.0   \n",
       "SE               L              207.0  156159.690821   71776.028169   8000.0   \n",
       "                 M             2266.0  153643.334069   54768.256294  18907.0   \n",
       "                 S               43.0  106875.465116   67570.517515  10000.0   \n",
       "\n",
       "                                     25%       50%       75%       max  \n",
       "experience_level company_size                                           \n",
       "EN               L              29142.50   58551.0  100000.0  300000.0  \n",
       "                 M              51000.00   80000.0  125000.0  220000.0  \n",
       "                 S              21669.00   52008.0   90000.0  150000.0  \n",
       "EX               L             106000.00  150000.0  230000.0  325000.0  \n",
       "                 M             147500.00  200000.0  239000.0  353200.0  \n",
       "                 S             131416.50  190000.0  200000.0  416000.0  \n",
       "MI               L              46637.50   82849.5  114500.0  423000.0  \n",
       "                 M              75000.00  102200.0  145000.0  450000.0  \n",
       "                 S              30772.25   58000.0   74750.0  200000.0  \n",
       "SE               L             105700.00  150000.0  196920.0  423834.0  \n",
       "                 M             116250.00  147100.0  185900.0  385000.0  \n",
       "                 S              54327.00   91237.0  142500.0  275000.0  "
      ]
     },
     "execution_count": 68,
     "metadata": {},
     "output_type": "execute_result"
    }
   ],
   "source": [
    "data.groupby(['experience_level', 'company_size'])['salary_in_usd'].describe()"
   ]
  },
  {
   "cell_type": "code",
   "execution_count": 69,
   "id": "c058b5f3",
   "metadata": {},
   "outputs": [
    {
     "data": {
      "text/plain": [
       "<AxesSubplot:title={'center':'salary_in_usd'}, xlabel='company_size'>"
      ]
     },
     "execution_count": 69,
     "metadata": {},
     "output_type": "execute_result"
    },
    {
     "data": {
      "image/png": "[encoded data removed]",
      "text/plain": [
       "<Figure size 640x480 with 1 Axes>"
      ]
     },
     "metadata": {},
     "output_type": "display_data"
    }
   ],
   "source": [
    "data.boxplot(column='salary_in_usd', by='company_size')"
   ]
  },
  {
   "cell_type": "code",
   "execution_count": 70,
   "id": "fab29603",
   "metadata": {},
   "outputs": [
    {
     "data": {
      "text/plain": [
       "<AxesSubplot:title={'center':'salary_in_usd'}, xlabel='experience_level'>"
      ]
     },
     "execution_count": 70,
     "metadata": {},
     "output_type": "execute_result"
    },
    {
     "data": {
      "image/png": "[encoded data removed]",
      "text/plain": [
       "<Figure size 640x480 with 1 Axes>"
      ]
     },
     "metadata": {},
     "output_type": "display_data"
    }
   ],
   "source": [
    "data.boxplot(column='salary_in_usd', by='experience_level')"
   ]
  },
  {
   "cell_type": "markdown",
   "id": "40be6518",
   "metadata": {},
   "source": [
    "# Report"
   ]
  },
  {
   "cell_type": "code",
   "execution_count": null,
   "id": "a94c27af",
   "metadata": {},
   "outputs": [],
   "source": []
  },
  {
   "cell_type": "code",
   "execution_count": 71,
   "id": "093d1fe8",
   "metadata": {},
   "outputs": [],
   "source": [
    "plot_salary = data.groupby(['company_size', 'experience_level'])['salary_in_usd'].mean().unstack()"
   ]
  },
  {
   "cell_type": "code",
   "execution_count": 72,
   "id": "0a898e5e",
   "metadata": {},
   "outputs": [
    {
     "data": {
      "text/html": [
       "<div>\n",
       "<style scoped>\n",
       "    .dataframe tbody tr th:only-of-type {\n",
       "        vertical-align: middle;\n",
       "    }\n",
       "\n",
       "    .dataframe tbody tr th {\n",
       "        vertical-align: top;\n",
       "    }\n",
       "\n",
       "    .dataframe thead th {\n",
       "        text-align: right;\n",
       "    }\n",
       "</style>\n",
       "<table border=\"1\" class=\"dataframe\">\n",
       "  <thead>\n",
       "    <tr style=\"text-align: right;\">\n",
       "      <th>experience_level</th>\n",
       "      <th>EN</th>\n",
       "      <th>EX</th>\n",
       "      <th>MI</th>\n",
       "      <th>SE</th>\n",
       "    </tr>\n",
       "    <tr>\n",
       "      <th>company_size</th>\n",
       "      <th></th>\n",
       "      <th></th>\n",
       "      <th></th>\n",
       "      <th></th>\n",
       "    </tr>\n",
       "  </thead>\n",
       "  <tbody>\n",
       "    <tr>\n",
       "      <th>L</th>\n",
       "      <td>72896.810000</td>\n",
       "      <td>165363.153846</td>\n",
       "      <td>89135.731343</td>\n",
       "      <td>156159.690821</td>\n",
       "    </tr>\n",
       "    <tr>\n",
       "      <th>M</th>\n",
       "      <td>87416.456140</td>\n",
       "      <td>198857.284211</td>\n",
       "      <td>111586.421900</td>\n",
       "      <td>153643.334069</td>\n",
       "    </tr>\n",
       "    <tr>\n",
       "      <th>S</th>\n",
       "      <td>59120.734694</td>\n",
       "      <td>196827.166667</td>\n",
       "      <td>58080.500000</td>\n",
       "      <td>106875.465116</td>\n",
       "    </tr>\n",
       "  </tbody>\n",
       "</table>\n",
       "</div>"
      ],
      "text/plain": [
       "experience_level            EN             EX             MI             SE\n",
       "company_size                                                               \n",
       "L                 72896.810000  165363.153846   89135.731343  156159.690821\n",
       "M                 87416.456140  198857.284211  111586.421900  153643.334069\n",
       "S                 59120.734694  196827.166667   58080.500000  106875.465116"
      ]
     },
     "execution_count": 72,
     "metadata": {},
     "output_type": "execute_result"
    }
   ],
   "source": [
    "plot_salary"
   ]
  },
  {
   "cell_type": "markdown",
   "id": "3cb400bd",
   "metadata": {},
   "source": [
    "# Re-order index and columns"
   ]
  },
  {
   "cell_type": "code",
   "execution_count": 73,
   "id": "e320b8b2",
   "metadata": {},
   "outputs": [
    {
     "data": {
      "text/html": [
       "<div>\n",
       "<style scoped>\n",
       "    .dataframe tbody tr th:only-of-type {\n",
       "        vertical-align: middle;\n",
       "    }\n",
       "\n",
       "    .dataframe tbody tr th {\n",
       "        vertical-align: top;\n",
       "    }\n",
       "\n",
       "    .dataframe thead th {\n",
       "        text-align: right;\n",
       "    }\n",
       "</style>\n",
       "<table border=\"1\" class=\"dataframe\">\n",
       "  <thead>\n",
       "    <tr style=\"text-align: right;\">\n",
       "      <th>experience_level</th>\n",
       "      <th>EN</th>\n",
       "      <th>MI</th>\n",
       "      <th>SE</th>\n",
       "      <th>EX</th>\n",
       "    </tr>\n",
       "    <tr>\n",
       "      <th>company_size</th>\n",
       "      <th></th>\n",
       "      <th></th>\n",
       "      <th></th>\n",
       "      <th></th>\n",
       "    </tr>\n",
       "  </thead>\n",
       "  <tbody>\n",
       "    <tr>\n",
       "      <th>S</th>\n",
       "      <td>59120.734694</td>\n",
       "      <td>58080.500000</td>\n",
       "      <td>106875.465116</td>\n",
       "      <td>196827.166667</td>\n",
       "    </tr>\n",
       "    <tr>\n",
       "      <th>M</th>\n",
       "      <td>87416.456140</td>\n",
       "      <td>111586.421900</td>\n",
       "      <td>153643.334069</td>\n",
       "      <td>198857.284211</td>\n",
       "    </tr>\n",
       "    <tr>\n",
       "      <th>L</th>\n",
       "      <td>72896.810000</td>\n",
       "      <td>89135.731343</td>\n",
       "      <td>156159.690821</td>\n",
       "      <td>165363.153846</td>\n",
       "    </tr>\n",
       "  </tbody>\n",
       "</table>\n",
       "</div>"
      ],
      "text/plain": [
       "experience_level            EN             MI             SE             EX\n",
       "company_size                                                               \n",
       "S                 59120.734694   58080.500000  106875.465116  196827.166667\n",
       "M                 87416.456140  111586.421900  153643.334069  198857.284211\n",
       "L                 72896.810000   89135.731343  156159.690821  165363.153846"
      ]
     },
     "execution_count": 73,
     "metadata": {},
     "output_type": "execute_result"
    }
   ],
   "source": [
    "plot_salary = plot_salary.reindex(index=['S', 'M', 'L'])\n",
    "plot_salary = plot_salary[['EN', 'MI', 'SE', 'EX']]\n",
    "plot_salary"
   ]
  },
  {
   "cell_type": "markdown",
   "id": "45f58cbe",
   "metadata": {},
   "source": [
    "# Visualize results"
   ]
  },
  {
   "cell_type": "code",
   "execution_count": 74,
   "id": "09e8bda2",
   "metadata": {},
   "outputs": [
    {
     "data": {
      "text/plain": [
       "<AxesSubplot:xlabel='company_size', ylabel='salary_in_usd'>"
      ]
     },
     "execution_count": 74,
     "metadata": {},
     "output_type": "execute_result"
    },
    {
     "data": {
      "image/png": "[encoded data removed]",
      "text/plain": [
       "<Figure size 640x480 with 1 Axes>"
      ]
     },
     "metadata": {},
     "output_type": "display_data"
    }
   ],
   "source": [
    "plot_salary.plot.bar(ylabel='salary_in_usd')"
   ]
  },
  {
   "cell_type": "markdown",
   "id": "559f73cb",
   "metadata": {},
   "source": [
    "# Report"
   ]
  },
  {
   "cell_type": "markdown",
   "id": "4d4a6731",
   "metadata": {},
   "source": [
    "**present finding**"
   ]
  },
  {
   "cell_type": "code",
   "execution_count": 86,
   "id": "db19a8b5",
   "metadata": {},
   "outputs": [
    {
     "data": {
      "text/plain": [
       "<AxesSubplot:xlabel='company_size', ylabel='salary_in_usd'>"
      ]
     },
     "execution_count": 86,
     "metadata": {},
     "output_type": "execute_result"
    },
    {
     "data": {
      "image/png": "[encoded data removed]",
      "text/plain": [
       "<Figure size 640x480 with 1 Axes>"
      ]
     },
     "metadata": {},
     "output_type": "display_data"
    }
   ],
   "source": [
    "plot_salary.plot.bar(ylabel='salary_in_usd')"
   ]
  },
  {
   "cell_type": "markdown",
   "id": "21e3b00d",
   "metadata": {},
   "source": [
    "**credibility count**"
   ]
  },
  {
   "cell_type": "code",
   "execution_count": null,
   "id": "e761ce4c",
   "metadata": {},
   "outputs": [],
   "source": []
  },
  {
   "cell_type": "code",
   "execution_count": null,
   "id": "f7d4cd6e",
   "metadata": {},
   "outputs": [],
   "source": []
  },
  {
   "cell_type": "code",
   "execution_count": null,
   "id": "178d223e",
   "metadata": {},
   "outputs": [],
   "source": []
  },
  {
   "cell_type": "code",
   "execution_count": null,
   "id": "0fbddc93",
   "metadata": {},
   "outputs": [],
   "source": []
  },
  {
   "cell_type": "code",
   "execution_count": null,
   "id": "5c44a12d",
   "metadata": {},
   "outputs": [],
   "source": []
  },
  {
   "cell_type": "code",
   "execution_count": null,
   "id": "b64c11ae",
   "metadata": {},
   "outputs": [],
   "source": []
  }
 ],
 "metadata": {
  "kernelspec": {
   "display_name": "Python 3 (ipykernel)",
   "language": "python",
   "name": "python3"
  },
  "language_info": {
   "codemirror_mode": {
    "name": "ipython",
    "version": 3
   },
   "file_extension": ".py",
   "mimetype": "text/x-python",
   "name": "python",
   "nbconvert_exporter": "python",
   "pygments_lexer": "ipython3",
   "version": "3.9.13"
  }
 },
 "nbformat": 4,
 "nbformat_minor": 5
}
